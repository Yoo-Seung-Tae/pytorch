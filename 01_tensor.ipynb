{
 "cells": [
  {
   "cell_type": "code",
   "execution_count": 2,
   "metadata": {},
   "outputs": [],
   "source": [
    "## 텐서 초기화: 텐서에 특정 값을 채워서 생성하는 것\n",
    "\n",
    "import torch\n",
    "import numpy as np"
   ]
  },
  {
   "cell_type": "code",
   "execution_count": null,
   "metadata": {},
   "outputs": [
    {
     "name": "stdout",
     "output_type": "stream",
     "text": [
      "tensor([[-3.0460e+23,  1.6381e-42],\n",
      "        [ 0.0000e+00,  0.0000e+00],\n",
      "        [ 0.0000e+00,  0.0000e+00],\n",
      "        [ 0.0000e+00,  0.0000e+00]])\n"
     ]
    }
   ],
   "source": [
    "## 초기화 되지 않은 텐서 -> 특정값이 채워지지 않은 상태로 생성하는 것\n",
    "\n",
    "tensor=torch.empty(4, 2)\n",
    "print(tensor)"
   ]
  },
  {
   "cell_type": "code",
   "execution_count": null,
   "metadata": {},
   "outputs": [
    {
     "name": "stdout",
     "output_type": "stream",
     "text": [
      "tensor([[1., 1., 1., 1.],\n",
      "        [1., 1., 1., 1.]])\n",
      "tensor([[0, 0, 0, 0],\n",
      "        [0, 0, 0, 0]])\n"
     ]
    }
   ],
   "source": [
    "## 상수로 초기화 된 텐서\n",
    "b=torch.zeros(2,4, dtype=torch.long)    # 데이터 타입 지정 가능\n",
    "a=torch.ones(2,4)\n",
    "\n",
    "print(a)\n",
    "print(b)"
   ]
  },
  {
   "cell_type": "code",
   "execution_count": 17,
   "metadata": {},
   "outputs": [
    {
     "name": "stdout",
     "output_type": "stream",
     "text": [
      "tensor([[0.8949, 0.4159, 0.6428, 0.2284],\n",
      "        [0.2962, 0.4400, 0.4215, 0.2381],\n",
      "        [0.1856, 0.4792, 0.2022, 0.9433]])\n",
      "tensor([[ 1.6979,  1.5536, -0.1911,  1.6500],\n",
      "        [-0.8590,  1.2366,  0.9584, -0.3660],\n",
      "        [ 0.8572,  1.9465, -0.4444,  1.4646]])\n"
     ]
    }
   ],
   "source": [
    "## 무작위로 초기화된 텐서\n",
    "a=torch.rand(3,4)    # 0~1 값으로 초기화\n",
    "print(a)\n",
    "\n",
    "b=torch.randn(3,4)    # 표준 정규분포에서 무작위로 초기화\n",
    "print(b)"
   ]
  },
  {
   "cell_type": "code",
   "execution_count": 18,
   "metadata": {},
   "outputs": [
    {
     "name": "stdout",
     "output_type": "stream",
     "text": [
      "tensor([1, 2, 3])\n"
     ]
    }
   ],
   "source": [
    "## 직접 입력한 값으로 초기화\n",
    "\n",
    "a=torch.tensor([1,2,3])\n",
    "print(a)\n"
   ]
  },
  {
   "cell_type": "code",
   "execution_count": null,
   "metadata": {},
   "outputs": [
    {
     "name": "stdout",
     "output_type": "stream",
     "text": [
      "tensor([1, 2, 3])\n",
      "[1 2 3]\n",
      "<class 'numpy.ndarray'>\n",
      "tensor([  1,   2, 100])\n"
     ]
    }
   ],
   "source": [
    "## numpy 배열로부터 초기화\n",
    "\n",
    "np_array=np.array([1,2,3])\n",
    "\n",
    "# 넘파이 텐서 전환\n",
    "a=torch.from_numpy(np_array)\n",
    "print(a)\n",
    "\n",
    "#텐서 넘파이 전환\n",
    "b=a.numpy()\n",
    "print(b)\n",
    "print(type(b))\n",
    "\n",
    "# 변환하면 얕은 복사가 됨\n",
    "b[2]=100\n",
    "print(a)\n",
    "\n",
    "\n"
   ]
  },
  {
   "cell_type": "code",
   "execution_count": 28,
   "metadata": {},
   "outputs": [
    {
     "name": "stdout",
     "output_type": "stream",
     "text": [
      "tensor([[1, 1, 1, 1],\n",
      "        [1, 1, 1, 1]])\n",
      "tensor([[0.5765, 0.6020, 0.5316, 0.5374],\n",
      "        [0.0801, 0.1662, 0.1561, 0.0423]])\n",
      "tensor([[ 0.0842, -0.3377,  0.0495,  0.1695],\n",
      "        [ 0.4602, -0.8214, -0.1844, -1.0510]])\n",
      "tensor([[0., 0., 0., 0.],\n",
      "        [0., 0., 0., 0.]])\n"
     ]
    }
   ],
   "source": [
    "## 특정 텐서와 같은 사이즈의 텐서에 무작위로 값을 채움\n",
    "\n",
    "a=torch.ones(2,4, dtype=torch.long)\n",
    "b=torch.rand_like(a, dtype=torch.float)\n",
    "b_2=torch.randn_like(a, dtype=torch.float)\n",
    "c=torch.zeros_like(a, dtype=torch.float)\n",
    "\n",
    "print(a)\n",
    "print(b)\n",
    "print(b_2)\n",
    "print(c)"
   ]
  },
  {
   "cell_type": "code",
   "execution_count": 22,
   "metadata": {},
   "outputs": [
    {
     "name": "stdout",
     "output_type": "stream",
     "text": [
      "tensor([[0.6037, 0.0798, 0.3070, 0.0705],\n",
      "        [0.2706, 0.7784, 0.2067, 0.1677],\n",
      "        [0.2671, 0.3285, 0.8809, 0.0819]])\n",
      "torch.Size([3, 4])\n",
      "torch.Size([3, 4])\n",
      "torch.float32\n",
      "cpu\n"
     ]
    }
   ],
   "source": [
    "## 텐서의 속성\n",
    "\n",
    "a=torch.rand(3,4)    # 0~1 값으로 초기화\n",
    "print(a)\n",
    "\n",
    "print(a.size())\n",
    "print(a.shape)\n",
    "\n",
    "print(a.dtype)    # 기본 float32\n",
    "\n",
    "print(a.device)    # 쓰고 있는 부품 출력 (cpu or gpu)"
   ]
  },
  {
   "cell_type": "code",
   "execution_count": 13,
   "metadata": {},
   "outputs": [
    {
     "name": "stdout",
     "output_type": "stream",
     "text": [
      "torch.float64\n",
      "tensor([1., 2., 3.])\n",
      "torch.float32\n",
      "tensor([1, 2, 3], dtype=torch.int32)\n",
      "torch.int32\n"
     ]
    }
   ],
   "source": [
    "## 특정 타입의 텐서 생성\n",
    "\n",
    "a=torch.rand(3,4, dtype=torch.float64)\n",
    "print(a.dtype)\n",
    "\n",
    "b=torch.FloatTensor([1,2,3])\n",
    "print(b)\n",
    "print(b.dtype)\n",
    "\n",
    "c=torch.IntTensor([1,2,3])\n",
    "print(c)\n",
    "print(c.dtype)\n"
   ]
  },
  {
   "cell_type": "code",
   "execution_count": 19,
   "metadata": {},
   "outputs": [
    {
     "name": "stdout",
     "output_type": "stream",
     "text": [
      "tensor([1, 2, 3], dtype=torch.int32)\n",
      "tensor([1., 2., 3.])\n"
     ]
    }
   ],
   "source": [
    "## 데이터 타입 캐스팅(형 변환)\n",
    "\n",
    "# float -> int\n",
    "b=torch.FloatTensor([1,2,3])\n",
    "print(b.int())\n",
    "\n",
    "# int -> float\n",
    "c=torch.IntTensor([1,2,3])\n",
    "print(c.float())\n"
   ]
  },
  {
   "cell_type": "code",
   "execution_count": null,
   "metadata": {},
   "outputs": [
    {
     "name": "stdout",
     "output_type": "stream",
     "text": [
      "0\n",
      "torch.Size([])\n",
      "tensor(100)\n",
      "1\n",
      "torch.Size([2])\n",
      "tensor([1, 2])\n",
      "2\n",
      "torch.Size([2, 2])\n",
      "tensor([[1, 2],\n",
      "        [3, 4]])\n",
      "3\n",
      "torch.Size([2, 2, 3])\n",
      "tensor([[[1, 2, 3],\n",
      "         [3, 4, 5]],\n",
      "\n",
      "        [[0, 1, 2],\n",
      "         [2, 3, 4]]])\n",
      "4\n",
      "torch.Size([3, 2, 3, 2])\n",
      "tensor([[[[0.9246, 0.9426],\n",
      "          [0.9976, 0.9728],\n",
      "          [0.1879, 0.9535]],\n",
      "\n",
      "         [[0.9858, 0.3144],\n",
      "          [0.1702, 0.5900],\n",
      "          [0.4494, 0.7390]]],\n",
      "\n",
      "\n",
      "        [[[0.1141, 0.3003],\n",
      "          [0.9022, 0.0599],\n",
      "          [0.0179, 0.3026]],\n",
      "\n",
      "         [[0.5279, 0.3901],\n",
      "          [0.6495, 0.3939],\n",
      "          [0.9028, 0.9205]]],\n",
      "\n",
      "\n",
      "        [[[0.9872, 0.2471],\n",
      "          [0.4042, 0.5955],\n",
      "          [0.3001, 0.6831]],\n",
      "\n",
      "         [[0.6412, 0.4894],\n",
      "          [0.8757, 0.2945],\n",
      "          [0.5101, 0.5544]]]])\n"
     ]
    }
   ],
   "source": [
    "## 다차원 텐서 표현\n",
    "\n",
    "# tensor(scalar): 하나의 값을 가지고 있는 텐서\n",
    "t0=torch.tensor(100)\n",
    "print(t0.ndim)     # 차원 출력\n",
    "print(t0.shape)     # 사이즈 출력\n",
    "print(t0)\n",
    "\n",
    "\n",
    "# 1차원 텐서(vector): 값들을 저장하고 있는 리스트와 유사한 테서\n",
    "t1=torch.tensor([1,2])\n",
    "print(t1.ndim)\n",
    "print(t1.shape)\n",
    "print(t1)\n",
    "\n",
    "\n",
    "# 2차원 텐서(matrix): 행렬과 같은 모양으로 두개의 축이 존재\n",
    "t2=torch.tensor([[1,2],[3,4]])\n",
    "print(t2.ndim)\n",
    "print(t2.shape)\n",
    "print(t2)\n",
    "\n",
    "\n",
    "# 3차원 텐서(cube): 큐브와 같은 형태로 세 개의 축이 존재\n",
    "t3=torch.tensor([\n",
    "    [[1,2,3],[3,4,5]],\n",
    "    [[0,1,2],[2,3,4]]\n",
    "    ])\n",
    "print(t3.ndim)\n",
    "print(t3.shape)\n",
    "print(t3)\n",
    "\n",
    "\n",
    "# 4차원 텐서\n",
    "t4=torch.rand(3,2,3,2)\n",
    "print(t4.ndim)\n",
    "print(t4.shape)\n",
    "print(t4)"
   ]
  },
  {
   "cell_type": "code",
   "execution_count": null,
   "metadata": {},
   "outputs": [],
   "source": []
  },
  {
   "cell_type": "code",
   "execution_count": null,
   "metadata": {},
   "outputs": [],
   "source": []
  },
  {
   "cell_type": "code",
   "execution_count": null,
   "metadata": {},
   "outputs": [],
   "source": []
  },
  {
   "cell_type": "code",
   "execution_count": null,
   "metadata": {},
   "outputs": [],
   "source": []
  },
  {
   "cell_type": "code",
   "execution_count": null,
   "metadata": {},
   "outputs": [],
   "source": []
  },
  {
   "cell_type": "code",
   "execution_count": null,
   "metadata": {},
   "outputs": [],
   "source": []
  }
 ],
 "metadata": {
  "kernelspec": {
   "display_name": "pytorch-env",
   "language": "python",
   "name": "python3"
  },
  "language_info": {
   "codemirror_mode": {
    "name": "ipython",
    "version": 3
   },
   "file_extension": ".py",
   "mimetype": "text/x-python",
   "name": "python",
   "nbconvert_exporter": "python",
   "pygments_lexer": "ipython3",
   "version": "3.12.8"
  }
 },
 "nbformat": 4,
 "nbformat_minor": 2
}
