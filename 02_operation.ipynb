{
 "cells": [
  {
   "cell_type": "code",
   "execution_count": 1,
   "metadata": {},
   "outputs": [],
   "source": [
    "import torch\n",
    "import numpy as np"
   ]
  },
  {
   "cell_type": "code",
   "execution_count": null,
   "metadata": {},
   "outputs": [
    {
     "name": "stdout",
     "output_type": "stream",
     "text": [
      "tensor([[0.8886, 0.1676],\n",
      "        [0.2232, 0.3289]])\n",
      "tensor([[1.7772, 0.3352],\n",
      "        [0.4464, 0.6577]])\n",
      "tensor([[1.8886, 1.1676],\n",
      "        [1.2232, 1.3289]])\n",
      "tensor([[0.5858, 0.5111],\n",
      "        [0.6365, 0.6291]])\n",
      "tensor([[1.4744, 0.6787],\n",
      "        [0.8597, 0.9579]])\n"
     ]
    }
   ],
   "source": [
    "## 산술 연산\n",
    "a=torch.rand(2,2)\n",
    "print(a)\n",
    "\n",
    "a2=a*2\n",
    "print(a2)\n",
    "\n",
    "a3=a+1\n",
    "print(a3)"
   ]
  },
  {
   "cell_type": "code",
   "execution_count": null,
   "metadata": {},
   "outputs": [
    {
     "name": "stdout",
     "output_type": "stream",
     "text": [
      "tensor([[0.5449, 0.5382],\n",
      "        [0.0969, 0.7987]])\n",
      "tensor([[0.1061, 0.4682],\n",
      "        [0.9109, 0.4487]])\n",
      "tensor([[0.6510, 1.0064],\n",
      "        [1.0078, 1.2473]])\n",
      "tensor([[0.6510, 1.0064],\n",
      "        [1.0078, 1.2473]])\n"
     ]
    }
   ],
   "source": [
    "# 더하기\n",
    "\n",
    "a=torch.rand(2,2)\n",
    "b=torch.rand(2,2)\n",
    "\n",
    "print(a)\n",
    "print(b)\n",
    "print(a+b)\n",
    "\n",
    "add=torch.add(a,b)\n",
    "print(add)"
   ]
  },
  {
   "cell_type": "code",
   "execution_count": null,
   "metadata": {},
   "outputs": [
    {
     "name": "stdout",
     "output_type": "stream",
     "text": [
      "tensor([[1.0471, 1.7450],\n",
      "        [0.4839, 1.2584]])\n",
      "tensor([[1.0471, 1.7450],\n",
      "        [0.4839, 1.2584]])\n"
     ]
    }
   ],
   "source": [
    "add=torch.add(a,b)\n",
    "print(add)\n",
    "\n",
    "## in_place 바꿔치기 연산\n",
    "\n",
    "b.add_(a)\n",
    "print(b)"
   ]
  },
  {
   "cell_type": "code",
   "execution_count": 22,
   "metadata": {},
   "outputs": [
    {
     "name": "stdout",
     "output_type": "stream",
     "text": [
      "tensor([[-0.3307, -0.3297],\n",
      "        [-0.4722,  0.3657]])\n",
      "tensor([[-0.3307, -0.3297],\n",
      "        [-0.4722,  0.3657]])\n"
     ]
    }
   ],
   "source": [
    "# 빼기\n",
    "\n",
    "a=torch.rand(2,2)\n",
    "b=torch.rand(2,2)\n",
    "\n",
    "sub=torch.sub(a,b)\n",
    "print(a-b)\n",
    "print(sub)"
   ]
  },
  {
   "cell_type": "code",
   "execution_count": 24,
   "metadata": {},
   "outputs": [
    {
     "name": "stdout",
     "output_type": "stream",
     "text": [
      "tensor([[0.0571, 0.5181],\n",
      "        [0.1382, 0.7258]])\n",
      "tensor([[0.0571, 0.5181],\n",
      "        [0.1382, 0.7258]])\n"
     ]
    }
   ],
   "source": [
    "# 곱하기\n",
    "\n",
    "a=torch.rand(2,2)\n",
    "b=torch.rand(2,2)\n",
    "\n",
    "mul=torch.mul(a,b)\n",
    "print(a*b)\n",
    "print(mul)\n"
   ]
  },
  {
   "cell_type": "code",
   "execution_count": 30,
   "metadata": {},
   "outputs": [
    {
     "name": "stdout",
     "output_type": "stream",
     "text": [
      "tensor([[ 0.4762,  1.3661],\n",
      "        [ 0.2075, 32.9311]])\n",
      "tensor([[ 0.4762,  1.3661],\n",
      "        [ 0.2075, 32.9311]])\n"
     ]
    }
   ],
   "source": [
    "# 나누기\n",
    "\n",
    "a=torch.rand(2,2)\n",
    "b=torch.rand(2,2)\n",
    "\n",
    "div=torch.div(a,b)\n",
    "print(a/b)\n",
    "print(div)\n"
   ]
  },
  {
   "cell_type": "code",
   "execution_count": null,
   "metadata": {},
   "outputs": [],
   "source": []
  },
  {
   "cell_type": "code",
   "execution_count": null,
   "metadata": {},
   "outputs": [],
   "source": []
  }
 ],
 "metadata": {
  "kernelspec": {
   "display_name": "pytorch-env",
   "language": "python",
   "name": "python3"
  },
  "language_info": {
   "codemirror_mode": {
    "name": "ipython",
    "version": 3
   },
   "file_extension": ".py",
   "mimetype": "text/x-python",
   "name": "python",
   "nbconvert_exporter": "python",
   "pygments_lexer": "ipython3",
   "version": "3.12.8"
  }
 },
 "nbformat": 4,
 "nbformat_minor": 2
}
