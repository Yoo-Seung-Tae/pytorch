{
 "cells": [
  {
   "cell_type": "code",
   "execution_count": 1,
   "metadata": {},
   "outputs": [],
   "source": [
    "import torch\n",
    "import numpy as np"
   ]
  },
  {
   "cell_type": "code",
   "execution_count": null,
   "metadata": {},
   "outputs": [
    {
     "name": "stdout",
     "output_type": "stream",
     "text": [
      "tensor([[0.8886, 0.1676],\n",
      "        [0.2232, 0.3289]])\n",
      "tensor([[1.7772, 0.3352],\n",
      "        [0.4464, 0.6577]])\n",
      "tensor([[1.8886, 1.1676],\n",
      "        [1.2232, 1.3289]])\n",
      "tensor([[0.5858, 0.5111],\n",
      "        [0.6365, 0.6291]])\n",
      "tensor([[1.4744, 0.6787],\n",
      "        [0.8597, 0.9579]])\n"
     ]
    }
   ],
   "source": [
    "## 산술 연산\n",
    "a=torch.rand(2,2)\n",
    "print(a)\n",
    "\n",
    "a2=a*2\n",
    "print(a2)\n",
    "\n",
    "a3=a+1\n",
    "print(a3)"
   ]
  },
  {
   "cell_type": "code",
   "execution_count": null,
   "metadata": {},
   "outputs": [
    {
     "name": "stdout",
     "output_type": "stream",
     "text": [
      "tensor([[0.5449, 0.5382],\n",
      "        [0.0969, 0.7987]])\n",
      "tensor([[0.1061, 0.4682],\n",
      "        [0.9109, 0.4487]])\n",
      "tensor([[0.6510, 1.0064],\n",
      "        [1.0078, 1.2473]])\n",
      "tensor([[0.6510, 1.0064],\n",
      "        [1.0078, 1.2473]])\n"
     ]
    }
   ],
   "source": [
    "# 더하기\n",
    "\n",
    "a=torch.rand(2,2)\n",
    "b=torch.rand(2,2)\n",
    "\n",
    "print(a)\n",
    "print(b)\n",
    "print(a+b)\n",
    "\n",
    "add=torch.add(a,b)\n",
    "print(add)"
   ]
  },
  {
   "cell_type": "code",
   "execution_count": null,
   "metadata": {},
   "outputs": [
    {
     "name": "stdout",
     "output_type": "stream",
     "text": [
      "tensor([[1.0471, 1.7450],\n",
      "        [0.4839, 1.2584]])\n",
      "tensor([[1.0471, 1.7450],\n",
      "        [0.4839, 1.2584]])\n"
     ]
    }
   ],
   "source": [
    "add=torch.add(a,b)\n",
    "print(add)\n",
    "\n",
    "## in_place 바꿔치기 연산\n",
    "\n",
    "b.add_(a)\n",
    "print(b)"
   ]
  },
  {
   "cell_type": "code",
   "execution_count": 22,
   "metadata": {},
   "outputs": [
    {
     "name": "stdout",
     "output_type": "stream",
     "text": [
      "tensor([[-0.3307, -0.3297],\n",
      "        [-0.4722,  0.3657]])\n",
      "tensor([[-0.3307, -0.3297],\n",
      "        [-0.4722,  0.3657]])\n"
     ]
    }
   ],
   "source": [
    "# 빼기\n",
    "\n",
    "a=torch.rand(2,2)\n",
    "b=torch.rand(2,2)\n",
    "\n",
    "sub=torch.sub(a,b)\n",
    "print(a-b)\n",
    "print(sub)"
   ]
  },
  {
   "cell_type": "code",
   "execution_count": 2,
   "metadata": {},
   "outputs": [
    {
     "name": "stdout",
     "output_type": "stream",
     "text": [
      "tensor([[0.0983, 0.0970],\n",
      "        [0.8214, 0.5094]])\n",
      "tensor([[0.0983, 0.0970],\n",
      "        [0.8214, 0.5094]])\n"
     ]
    }
   ],
   "source": [
    "# 곱하기\n",
    "\n",
    "a=torch.rand(2,2)\n",
    "b=torch.rand(2,2)\n",
    "\n",
    "mul=torch.mul(a,b)\n",
    "print(a*b)\n",
    "print(mul)\n"
   ]
  },
  {
   "cell_type": "code",
   "execution_count": null,
   "metadata": {},
   "outputs": [
    {
     "name": "stdout",
     "output_type": "stream",
     "text": [
      "tensor([[0.8609, 1.6490],\n",
      "        [0.4349, 1.0068]])\n",
      "tensor([[0.8609, 1.6490],\n",
      "        [0.4349, 1.0068]])\n"
     ]
    }
   ],
   "source": [
    "# 나누기\n",
    "\n",
    "a=torch.rand(2,2)\n",
    "b=torch.rand(2,2)\n",
    "\n",
    "div=torch.div(a,b)\n",
    "print(a/b)\n",
    "print(div)"
   ]
  },
  {
   "cell_type": "code",
   "execution_count": 87,
   "metadata": {},
   "outputs": [
    {
     "name": "stdout",
     "output_type": "stream",
     "text": [
      "절대값 tensor(10)\n",
      "올림 tensor(-10)\n",
      "올림 tensor(-10)\n",
      "내림 tensor(-10)\n",
      "클램프 tensor([[-0.0517,  0.2633],\n",
      "        [-0.2467, -0.5000]])\n"
     ]
    }
   ],
   "source": [
    "# math 모듈\n",
    "\n",
    "a=torch.tensor(-10)\n",
    "print('절대값', torch.abs(a))\n",
    "\n",
    "\n",
    "b=torch.tensor(3.6)\n",
    "print('올림', torch.ceil(a))\n",
    "print('올림', torch.round(a))\n",
    "print('내림', torch.floor(a))\n",
    "\n",
    "\n",
    "c=torch.randn(2,2)\n",
    "print('클램프', torch.clamp(c, -0.5, 0.5))   # 값 or 행렬, 최대값, 최소값    값이 최대값과 최소값 사이에 없다면 최대값 혹은 최소값으로 설정"
   ]
  },
  {
   "cell_type": "code",
   "execution_count": null,
   "metadata": {},
   "outputs": [
    {
     "name": "stdout",
     "output_type": "stream",
     "text": [
      "최소값 tensor(-1.3897)\n",
      "최대값 tensor(0.3131)\n",
      "평균 tensor(-0.5925)\n",
      "표준편차 tensor(0.7149)\n",
      "모든 원소의 합 tensor(-2.3699)\n",
      "모든 원소의 합 tensor([4, 6])\n",
      "모든 원소의 곱 tensor(24)\n",
      "중복값 제거 tensor([1, 2, 3, 4, 5])\n"
     ]
    }
   ],
   "source": [
    "# 각종 연산\n",
    "\n",
    "a=torch.randn(2,2)\n",
    "b=torch.tensor([[1,2],[3,4]])\n",
    "c=torch.tensor([1,1,1,1,2,2,2,3,3,3,4,4,4,4,4,5])\n",
    "\n",
    "print('최소값', torch.min(a))\n",
    "print('최대값', torch.max(a))\n",
    "print('평균', torch.mean(a))\n",
    "print('표준편차', torch.std(a))\n",
    "\n",
    "print('모든 원소의 합', torch.sum(a))\n",
    "print('모든 원소의 합', torch.sum(b, dim=0))    # 0: 열, 1: 행\n",
    "\n",
    "print('모든 원소의 곱', torch.prod(b))\n",
    "\n",
    "print('중복값 제거', torch.unique(c))"
   ]
  },
  {
   "cell_type": "code",
   "execution_count": null,
   "metadata": {},
   "outputs": [
    {
     "name": "stdout",
     "output_type": "stream",
     "text": [
      "tensor([[19, 22],\n",
      "        [43, 50]])\n"
     ]
    }
   ],
   "source": [
    "## 내적 연산(dot product) : 행렬 연산\n",
    "\n",
    "x=torch.tensor([[1,2],[3,4]])\n",
    "y=torch.tensor([[5,6],[7,8]])\n",
    "\n",
    "result=torch.matmul(x, y)\n",
    "print(result)"
   ]
  },
  {
   "cell_type": "code",
   "execution_count": null,
   "metadata": {},
   "outputs": [],
   "source": []
  }
 ],
 "metadata": {
  "kernelspec": {
   "display_name": "pytorch-env",
   "language": "python",
   "name": "python3"
  },
  "language_info": {
   "codemirror_mode": {
    "name": "ipython",
    "version": 3
   },
   "file_extension": ".py",
   "mimetype": "text/x-python",
   "name": "python",
   "nbconvert_exporter": "python",
   "pygments_lexer": "ipython3",
   "version": "3.12.8"
  }
 },
 "nbformat": 4,
 "nbformat_minor": 2
}
